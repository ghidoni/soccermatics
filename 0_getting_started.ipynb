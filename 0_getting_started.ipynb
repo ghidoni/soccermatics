{
 "cells": [
  {
   "cell_type": "markdown",
   "metadata": {},
   "source": [
    "# Statsbomb"
   ]
  },
  {
   "cell_type": "code",
   "execution_count": 1,
   "metadata": {},
   "outputs": [],
   "source": [
    "from mplsoccer import Sbopen\n",
    "parser = Sbopen()"
   ]
  },
  {
   "cell_type": "code",
   "execution_count": 2,
   "metadata": {},
   "outputs": [
    {
     "name": "stdout",
     "output_type": "stream",
     "text": [
      "<class 'pandas.core.frame.DataFrame'>\n",
      "RangeIndex: 43 entries, 0 to 42\n",
      "Data columns (total 12 columns):\n",
      " #   Column                     Non-Null Count  Dtype \n",
      "---  ------                     --------------  ----- \n",
      " 0   competition_id             43 non-null     int64 \n",
      " 1   season_id                  43 non-null     int64 \n",
      " 2   country_name               43 non-null     object\n",
      " 3   competition_name           43 non-null     object\n",
      " 4   competition_gender         43 non-null     object\n",
      " 5   competition_youth          43 non-null     bool  \n",
      " 6   competition_international  43 non-null     bool  \n",
      " 7   season_name                43 non-null     object\n",
      " 8   match_updated              43 non-null     object\n",
      " 9   match_updated_360          42 non-null     object\n",
      " 10  match_available_360        4 non-null      object\n",
      " 11  match_available            43 non-null     object\n",
      "dtypes: bool(2), int64(2), object(8)\n",
      "memory usage: 3.6+ KB\n"
     ]
    }
   ],
   "source": [
    "#opening data using competition method\n",
    "df_competition = parser.competition()\n",
    "#structure of data\n",
    "df_competition.info()"
   ]
  },
  {
   "cell_type": "code",
   "execution_count": 3,
   "metadata": {},
   "outputs": [
    {
     "name": "stdout",
     "output_type": "stream",
     "text": [
      "<class 'pandas.core.frame.DataFrame'>\n",
      "RangeIndex: 52 entries, 0 to 51\n",
      "Data columns (total 52 columns):\n",
      " #   Column                           Non-Null Count  Dtype         \n",
      "---  ------                           --------------  -----         \n",
      " 0   match_id                         52 non-null     int64         \n",
      " 1   match_date                       52 non-null     datetime64[ns]\n",
      " 2   kick_off                         52 non-null     datetime64[ns]\n",
      " 3   home_score                       52 non-null     int64         \n",
      " 4   away_score                       52 non-null     int64         \n",
      " 5   match_status                     52 non-null     object        \n",
      " 6   match_status_360                 52 non-null     object        \n",
      " 7   last_updated                     52 non-null     datetime64[ns]\n",
      " 8   last_updated_360                 52 non-null     datetime64[ns]\n",
      " 9   match_week                       52 non-null     int64         \n",
      " 10  competition_id                   52 non-null     int64         \n",
      " 11  country_name                     52 non-null     object        \n",
      " 12  competition_name                 52 non-null     object        \n",
      " 13  season_id                        52 non-null     int64         \n",
      " 14  season_name                      52 non-null     object        \n",
      " 15  home_team_id                     52 non-null     int64         \n",
      " 16  home_team_name                   52 non-null     object        \n",
      " 17  home_team_gender                 52 non-null     object        \n",
      " 18  home_team_group                  41 non-null     object        \n",
      " 19  home_team_country_id             52 non-null     int64         \n",
      " 20  home_team_country_name           52 non-null     object        \n",
      " 21  home_team_managers_id            52 non-null     int64         \n",
      " 22  home_team_managers_name          52 non-null     object        \n",
      " 23  home_team_managers_nickname      52 non-null     object        \n",
      " 24  home_team_managers_dob           52 non-null     datetime64[ns]\n",
      " 25  home_team_managers_country_id    52 non-null     int64         \n",
      " 26  home_team_managers_country_name  52 non-null     object        \n",
      " 27  away_team_id                     52 non-null     int64         \n",
      " 28  away_team_name                   52 non-null     object        \n",
      " 29  away_team_gender                 52 non-null     object        \n",
      " 30  away_team_group                  41 non-null     object        \n",
      " 31  away_team_country_id             52 non-null     int64         \n",
      " 32  away_team_country_name           52 non-null     object        \n",
      " 33  away_team_managers_id            52 non-null     int64         \n",
      " 34  away_team_managers_name          52 non-null     object        \n",
      " 35  away_team_managers_nickname      52 non-null     object        \n",
      " 36  away_team_managers_dob           52 non-null     datetime64[ns]\n",
      " 37  away_team_managers_country_id    52 non-null     int64         \n",
      " 38  away_team_managers_country_name  52 non-null     object        \n",
      " 39  metadata_data_version            52 non-null     object        \n",
      " 40  metadata_shot_fidelity_version   52 non-null     object        \n",
      " 41  metadata_xy_fidelity_version     52 non-null     object        \n",
      " 42  competition_stage_id             52 non-null     int64         \n",
      " 43  competition_stage_name           52 non-null     object        \n",
      " 44  stadium_id                       52 non-null     int64         \n",
      " 45  stadium_name                     52 non-null     object        \n",
      " 46  stadium_country_id               52 non-null     int64         \n",
      " 47  stadium_country_name             52 non-null     object        \n",
      " 48  referee_id                       36 non-null     float64       \n",
      " 49  referee_name                     36 non-null     object        \n",
      " 50  referee_country_id               36 non-null     float64       \n",
      " 51  referee_country_name             36 non-null     object        \n",
      "dtypes: datetime64[ns](6), float64(2), int64(17), object(27)\n",
      "memory usage: 21.2+ KB\n"
     ]
    }
   ],
   "source": [
    "#opening data using match method\n",
    "df_match = parser.match(competition_id=72, season_id=30)\n",
    "#structure of data\n",
    "df_match.info()"
   ]
  },
  {
   "cell_type": "code",
   "execution_count": 4,
   "metadata": {},
   "outputs": [
    {
     "name": "stdout",
     "output_type": "stream",
     "text": [
      "<class 'pandas.core.frame.DataFrame'>\n",
      "RangeIndex: 41 entries, 0 to 40\n",
      "Data columns (total 9 columns):\n",
      " #   Column           Non-Null Count  Dtype \n",
      "---  ------           --------------  ----- \n",
      " 0   player_id        41 non-null     int64 \n",
      " 1   player_name      41 non-null     object\n",
      " 2   player_nickname  41 non-null     object\n",
      " 3   jersey_number    41 non-null     int64 \n",
      " 4   match_id         41 non-null     int64 \n",
      " 5   team_id          41 non-null     int64 \n",
      " 6   team_name        41 non-null     object\n",
      " 7   country_id       41 non-null     int64 \n",
      " 8   country_name     41 non-null     object\n",
      "dtypes: int64(5), object(4)\n",
      "memory usage: 3.0+ KB\n"
     ]
    }
   ],
   "source": [
    "#opening data using match method\n",
    "df_lineup = parser.lineup(69301)\n",
    "#structure of data\n",
    "df_lineup.info()"
   ]
  },
  {
   "cell_type": "code",
   "execution_count": null,
   "metadata": {},
   "outputs": [],
   "source": []
  },
  {
   "cell_type": "code",
   "execution_count": null,
   "metadata": {},
   "outputs": [],
   "source": []
  },
  {
   "cell_type": "code",
   "execution_count": null,
   "metadata": {},
   "outputs": [],
   "source": []
  }
 ],
 "metadata": {
  "kernelspec": {
   "display_name": "env_futebol",
   "language": "python",
   "name": "python3"
  },
  "language_info": {
   "codemirror_mode": {
    "name": "ipython",
    "version": 3
   },
   "file_extension": ".py",
   "mimetype": "text/x-python",
   "name": "python",
   "nbconvert_exporter": "python",
   "pygments_lexer": "ipython3",
   "version": "3.8.10"
  },
  "orig_nbformat": 4
 },
 "nbformat": 4,
 "nbformat_minor": 2
}
